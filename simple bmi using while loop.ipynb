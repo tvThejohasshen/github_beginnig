{
  "nbformat": 4,
  "nbformat_minor": 0,
  "metadata": {
    "colab": {
      "provenance": [],
      "authorship_tag": "ABX9TyNoYN5YKJfUbqQneqYfFDVs",
      "include_colab_link": true
    },
    "kernelspec": {
      "name": "python3",
      "display_name": "Python 3"
    },
    "language_info": {
      "name": "python"
    }
  },
  "cells": [
    {
      "cell_type": "markdown",
      "metadata": {
        "id": "view-in-github",
        "colab_type": "text"
      },
      "source": [
        "<a href=\"https://colab.research.google.com/github/tvThejohasshen/github_beginnig/blob/main/simple%20bmi%20using%20while%20loop.ipynb\" target=\"_parent\"><img src=\"https://colab.research.google.com/assets/colab-badge.svg\" alt=\"Open In Colab\"/></a>"
      ]
    },
    {
      "cell_type": "code",
      "execution_count": 4,
      "metadata": {
        "colab": {
          "base_uri": "https://localhost:8080/"
        },
        "id": "CNdy6cOLv6i-",
        "outputId": "562dd094-a9c7-46f7-d38b-6322b147d1d3"
      },
      "outputs": [
        {
          "output_type": "stream",
          "name": "stdout",
          "text": [
            "enter the user height in meters5.4\n",
            "enter the user weight in kiligrams50\n",
            "user height\n",
            "1.7146776406035664\n"
          ]
        }
      ],
      "source": [
        "user_height = input (\"enter the user height in meters\")\n",
        "user_height = float(user_height)\n",
        "user_weight = input (\"enter the user weight in kilograms\")\n",
        "user_weight = float(user_weight)\n",
        "\n",
        "while user_height > 0:\n",
        "  print(\"user height\")\n",
        "  break\n",
        "\n",
        "while user_weight < 0:\n",
        "    print(\"user weight\")\n",
        "    break\n",
        "\n",
        "bmi = user_weight/(user_height * user_height)\n",
        "print(bmi)\n",
        "\n",
        "\n",
        "\n",
        "\n"
      ]
    }
  ]
}